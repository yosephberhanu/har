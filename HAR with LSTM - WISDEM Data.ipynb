{
 "cells": [
  {
   "cell_type": "markdown",
   "id": "20c51dc0",
   "metadata": {},
   "source": [
    "## Human Activity Recognition using LSTM\n",
    "\n",
    "LSTM based activity recognition on the raw data found [here](https://www.cis.fordham.edu/wisdm/dataset.php#actitracker)"
   ]
  },
  {
   "cell_type": "markdown",
   "id": "3b588e8b",
   "metadata": {},
   "source": [
    "### 0. Setup "
   ]
  },
  {
   "cell_type": "code",
   "execution_count": 53,
   "id": "ac7a20d1",
   "metadata": {},
   "outputs": [
    {
     "name": "stdout",
     "output_type": "stream",
     "text": [
      "Requirement already satisfied: numpy in /Users/yoseph/opt/anaconda3/envs/udacity/lib/python3.8/site-packages (1.23.5)\n",
      "Requirement already satisfied: pandas in /Users/yoseph/opt/anaconda3/envs/udacity/lib/python3.8/site-packages (1.5.2)\n",
      "Requirement already satisfied: arff in /Users/yoseph/opt/anaconda3/envs/udacity/lib/python3.8/site-packages (0.9)\n",
      "Requirement already satisfied: tensorflow in /Users/yoseph/opt/anaconda3/envs/udacity/lib/python3.8/site-packages (2.11.0)\n",
      "Requirement already satisfied: python-dateutil>=2.8.1 in /Users/yoseph/opt/anaconda3/envs/udacity/lib/python3.8/site-packages (from pandas) (2.8.2)\n",
      "Requirement already satisfied: pytz>=2020.1 in /Users/yoseph/opt/anaconda3/envs/udacity/lib/python3.8/site-packages (from pandas) (2022.6)\n",
      "Requirement already satisfied: opt-einsum>=2.3.2 in /Users/yoseph/opt/anaconda3/envs/udacity/lib/python3.8/site-packages (from tensorflow) (3.3.0)\n",
      "Requirement already satisfied: packaging in /Users/yoseph/opt/anaconda3/envs/udacity/lib/python3.8/site-packages (from tensorflow) (21.3)\n",
      "Requirement already satisfied: google-pasta>=0.1.1 in /Users/yoseph/opt/anaconda3/envs/udacity/lib/python3.8/site-packages (from tensorflow) (0.2.0)\n",
      "Requirement already satisfied: protobuf<3.20,>=3.9.2 in /Users/yoseph/opt/anaconda3/envs/udacity/lib/python3.8/site-packages (from tensorflow) (3.19.6)\n",
      "Requirement already satisfied: absl-py>=1.0.0 in /Users/yoseph/opt/anaconda3/envs/udacity/lib/python3.8/site-packages (from tensorflow) (1.3.0)\n",
      "Requirement already satisfied: wrapt>=1.11.0 in /Users/yoseph/opt/anaconda3/envs/udacity/lib/python3.8/site-packages (from tensorflow) (1.14.1)\n",
      "Requirement already satisfied: tensorflow-io-gcs-filesystem>=0.23.1 in /Users/yoseph/opt/anaconda3/envs/udacity/lib/python3.8/site-packages (from tensorflow) (0.28.0)\n",
      "Requirement already satisfied: flatbuffers>=2.0 in /Users/yoseph/opt/anaconda3/envs/udacity/lib/python3.8/site-packages (from tensorflow) (22.11.23)\n",
      "Requirement already satisfied: h5py>=2.9.0 in /Users/yoseph/opt/anaconda3/envs/udacity/lib/python3.8/site-packages (from tensorflow) (3.7.0)\n",
      "Requirement already satisfied: termcolor>=1.1.0 in /Users/yoseph/opt/anaconda3/envs/udacity/lib/python3.8/site-packages (from tensorflow) (2.1.1)\n",
      "Requirement already satisfied: setuptools in /Users/yoseph/opt/anaconda3/envs/udacity/lib/python3.8/site-packages (from tensorflow) (58.0.4)\n",
      "Requirement already satisfied: tensorflow-estimator<2.12,>=2.11.0 in /Users/yoseph/opt/anaconda3/envs/udacity/lib/python3.8/site-packages (from tensorflow) (2.11.0)\n",
      "Requirement already satisfied: six>=1.12.0 in /Users/yoseph/opt/anaconda3/envs/udacity/lib/python3.8/site-packages (from tensorflow) (1.16.0)\n",
      "Requirement already satisfied: keras<2.12,>=2.11.0 in /Users/yoseph/opt/anaconda3/envs/udacity/lib/python3.8/site-packages (from tensorflow) (2.11.0)\n",
      "Requirement already satisfied: grpcio<2.0,>=1.24.3 in /Users/yoseph/opt/anaconda3/envs/udacity/lib/python3.8/site-packages (from tensorflow) (1.50.0)\n",
      "Requirement already satisfied: tensorboard<2.12,>=2.11 in /Users/yoseph/opt/anaconda3/envs/udacity/lib/python3.8/site-packages (from tensorflow) (2.11.0)\n",
      "Requirement already satisfied: typing-extensions>=3.6.6 in /Users/yoseph/opt/anaconda3/envs/udacity/lib/python3.8/site-packages (from tensorflow) (4.1.1)\n",
      "Requirement already satisfied: gast<=0.4.0,>=0.2.1 in /Users/yoseph/opt/anaconda3/envs/udacity/lib/python3.8/site-packages (from tensorflow) (0.4.0)\n",
      "Requirement already satisfied: astunparse>=1.6.0 in /Users/yoseph/opt/anaconda3/envs/udacity/lib/python3.8/site-packages (from tensorflow) (1.6.3)\n",
      "Requirement already satisfied: libclang>=13.0.0 in /Users/yoseph/opt/anaconda3/envs/udacity/lib/python3.8/site-packages (from tensorflow) (14.0.6)\n",
      "Requirement already satisfied: wheel<1.0,>=0.23.0 in /Users/yoseph/opt/anaconda3/envs/udacity/lib/python3.8/site-packages (from astunparse>=1.6.0->tensorflow) (0.37.1)\n",
      "Requirement already satisfied: markdown>=2.6.8 in /Users/yoseph/opt/anaconda3/envs/udacity/lib/python3.8/site-packages (from tensorboard<2.12,>=2.11->tensorflow) (3.4.1)\n",
      "Requirement already satisfied: google-auth<3,>=1.6.3 in /Users/yoseph/opt/anaconda3/envs/udacity/lib/python3.8/site-packages (from tensorboard<2.12,>=2.11->tensorflow) (2.14.1)\n",
      "Requirement already satisfied: tensorboard-plugin-wit>=1.6.0 in /Users/yoseph/opt/anaconda3/envs/udacity/lib/python3.8/site-packages (from tensorboard<2.12,>=2.11->tensorflow) (1.8.1)\n",
      "Requirement already satisfied: tensorboard-data-server<0.7.0,>=0.6.0 in /Users/yoseph/opt/anaconda3/envs/udacity/lib/python3.8/site-packages (from tensorboard<2.12,>=2.11->tensorflow) (0.6.1)\n",
      "Requirement already satisfied: werkzeug>=1.0.1 in /Users/yoseph/opt/anaconda3/envs/udacity/lib/python3.8/site-packages (from tensorboard<2.12,>=2.11->tensorflow) (2.2.2)\n",
      "Requirement already satisfied: requests<3,>=2.21.0 in /Users/yoseph/opt/anaconda3/envs/udacity/lib/python3.8/site-packages (from tensorboard<2.12,>=2.11->tensorflow) (2.28.1)\n",
      "Requirement already satisfied: google-auth-oauthlib<0.5,>=0.4.1 in /Users/yoseph/opt/anaconda3/envs/udacity/lib/python3.8/site-packages (from tensorboard<2.12,>=2.11->tensorflow) (0.4.6)\n",
      "Requirement already satisfied: rsa<5,>=3.1.4 in /Users/yoseph/opt/anaconda3/envs/udacity/lib/python3.8/site-packages (from google-auth<3,>=1.6.3->tensorboard<2.12,>=2.11->tensorflow) (4.9)\n",
      "Requirement already satisfied: cachetools<6.0,>=2.0.0 in /Users/yoseph/opt/anaconda3/envs/udacity/lib/python3.8/site-packages (from google-auth<3,>=1.6.3->tensorboard<2.12,>=2.11->tensorflow) (5.2.0)\n",
      "Requirement already satisfied: pyasn1-modules>=0.2.1 in /Users/yoseph/opt/anaconda3/envs/udacity/lib/python3.8/site-packages (from google-auth<3,>=1.6.3->tensorboard<2.12,>=2.11->tensorflow) (0.2.8)\n",
      "Requirement already satisfied: requests-oauthlib>=0.7.0 in /Users/yoseph/opt/anaconda3/envs/udacity/lib/python3.8/site-packages (from google-auth-oauthlib<0.5,>=0.4.1->tensorboard<2.12,>=2.11->tensorflow) (1.3.1)\n",
      "Requirement already satisfied: importlib-metadata>=4.4 in /Users/yoseph/opt/anaconda3/envs/udacity/lib/python3.8/site-packages (from markdown>=2.6.8->tensorboard<2.12,>=2.11->tensorflow) (5.1.0)\n",
      "Requirement already satisfied: zipp>=0.5 in /Users/yoseph/opt/anaconda3/envs/udacity/lib/python3.8/site-packages (from importlib-metadata>=4.4->markdown>=2.6.8->tensorboard<2.12,>=2.11->tensorflow) (3.8.0)\n",
      "Requirement already satisfied: pyasn1<0.5.0,>=0.4.6 in /Users/yoseph/opt/anaconda3/envs/udacity/lib/python3.8/site-packages (from pyasn1-modules>=0.2.1->google-auth<3,>=1.6.3->tensorboard<2.12,>=2.11->tensorflow) (0.4.8)\n",
      "Requirement already satisfied: idna<4,>=2.5 in /Users/yoseph/opt/anaconda3/envs/udacity/lib/python3.8/site-packages (from requests<3,>=2.21.0->tensorboard<2.12,>=2.11->tensorflow) (3.4)\n",
      "Requirement already satisfied: certifi>=2017.4.17 in /Users/yoseph/opt/anaconda3/envs/udacity/lib/python3.8/site-packages (from requests<3,>=2.21.0->tensorboard<2.12,>=2.11->tensorflow) (2022.5.18.1)\n",
      "Requirement already satisfied: charset-normalizer<3,>=2 in /Users/yoseph/opt/anaconda3/envs/udacity/lib/python3.8/site-packages (from requests<3,>=2.21.0->tensorboard<2.12,>=2.11->tensorflow) (2.1.1)\n",
      "Requirement already satisfied: urllib3<1.27,>=1.21.1 in /Users/yoseph/opt/anaconda3/envs/udacity/lib/python3.8/site-packages (from requests<3,>=2.21.0->tensorboard<2.12,>=2.11->tensorflow) (1.26.13)\n",
      "Requirement already satisfied: oauthlib>=3.0.0 in /Users/yoseph/opt/anaconda3/envs/udacity/lib/python3.8/site-packages (from requests-oauthlib>=0.7.0->google-auth-oauthlib<0.5,>=0.4.1->tensorboard<2.12,>=2.11->tensorflow) (3.2.2)\n",
      "Requirement already satisfied: MarkupSafe>=2.1.1 in /Users/yoseph/opt/anaconda3/envs/udacity/lib/python3.8/site-packages (from werkzeug>=1.0.1->tensorboard<2.12,>=2.11->tensorflow) (2.1.1)\n",
      "Requirement already satisfied: pyparsing!=3.0.5,>=2.0.2 in /Users/yoseph/opt/anaconda3/envs/udacity/lib/python3.8/site-packages (from packaging->tensorflow) (3.0.4)\n"
     ]
    }
   ],
   "source": [
    "!pip install numpy pandas arff tensorflow"
   ]
  },
  {
   "cell_type": "code",
   "execution_count": 74,
   "id": "50931cc7",
   "metadata": {},
   "outputs": [],
   "source": [
    "import numpy as np\n",
    "import pandas as pd\n",
    "import statistics\n",
    "\n",
    "from sklearn.model_selection import train_test_split\n",
    "from tensorflow.keras.layers import LSTM, Embedding, Dense\n",
    "from tensorflow.keras import Sequential"
   ]
  },
  {
   "cell_type": "markdown",
   "id": "8c7ffe13",
   "metadata": {},
   "source": [
    "### 1. Load Data"
   ]
  },
  {
   "cell_type": "code",
   "execution_count": 75,
   "id": "38edfc88",
   "metadata": {},
   "outputs": [
    {
     "name": "stderr",
     "output_type": "stream",
     "text": [
      "/var/folders/13/qyc33pbx2ksbmfc_4_r98v9m0000gn/T/ipykernel_65745/2108347184.py:1: DtypeWarning: Columns (0) have mixed types. Specify dtype option on import or set low_memory=False.\n",
      "  raw_data = pd.read_csv('dataset/WISDM_ar_v1.1/WISDM_ar_v1.1_raw.txt',names=[\"user\",\"activity\", \"timestamp\",\"x\",\"y\", \"z\"], on_bad_lines='skip', lineterminator=';')\n"
     ]
    }
   ],
   "source": [
    "raw_data = pd.read_csv('dataset/WISDM_ar_v1.1/WISDM_ar_v1.1_raw.txt',names=[\"user\",\"activity\", \"timestamp\",\"x\",\"y\", \"z\"], on_bad_lines='skip', lineterminator=';')"
   ]
  },
  {
   "cell_type": "code",
   "execution_count": 76,
   "id": "ce4a6a4d",
   "metadata": {},
   "outputs": [
    {
     "data": {
      "text/html": [
       "<div>\n",
       "<style scoped>\n",
       "    .dataframe tbody tr th:only-of-type {\n",
       "        vertical-align: middle;\n",
       "    }\n",
       "\n",
       "    .dataframe tbody tr th {\n",
       "        vertical-align: top;\n",
       "    }\n",
       "\n",
       "    .dataframe thead th {\n",
       "        text-align: right;\n",
       "    }\n",
       "</style>\n",
       "<table border=\"1\" class=\"dataframe\">\n",
       "  <thead>\n",
       "    <tr style=\"text-align: right;\">\n",
       "      <th></th>\n",
       "      <th>user</th>\n",
       "      <th>activity</th>\n",
       "      <th>timestamp</th>\n",
       "      <th>x</th>\n",
       "      <th>y</th>\n",
       "      <th>z</th>\n",
       "    </tr>\n",
       "  </thead>\n",
       "  <tbody>\n",
       "    <tr>\n",
       "      <th>0</th>\n",
       "      <td>33</td>\n",
       "      <td>Jogging</td>\n",
       "      <td>4.910596e+13</td>\n",
       "      <td>-0.694638</td>\n",
       "      <td>12.680544</td>\n",
       "      <td>0.503953</td>\n",
       "    </tr>\n",
       "    <tr>\n",
       "      <th>1</th>\n",
       "      <td>33</td>\n",
       "      <td>Jogging</td>\n",
       "      <td>4.910606e+13</td>\n",
       "      <td>5.012288</td>\n",
       "      <td>11.264028</td>\n",
       "      <td>0.953424</td>\n",
       "    </tr>\n",
       "    <tr>\n",
       "      <th>2</th>\n",
       "      <td>33</td>\n",
       "      <td>Jogging</td>\n",
       "      <td>4.910611e+13</td>\n",
       "      <td>4.903325</td>\n",
       "      <td>10.882658</td>\n",
       "      <td>-0.081722</td>\n",
       "    </tr>\n",
       "    <tr>\n",
       "      <th>3</th>\n",
       "      <td>33</td>\n",
       "      <td>Jogging</td>\n",
       "      <td>4.910622e+13</td>\n",
       "      <td>-0.612916</td>\n",
       "      <td>18.496431</td>\n",
       "      <td>3.023717</td>\n",
       "    </tr>\n",
       "    <tr>\n",
       "      <th>4</th>\n",
       "      <td>33</td>\n",
       "      <td>Jogging</td>\n",
       "      <td>4.910633e+13</td>\n",
       "      <td>-1.184970</td>\n",
       "      <td>12.108489</td>\n",
       "      <td>7.205164</td>\n",
       "    </tr>\n",
       "    <tr>\n",
       "      <th>...</th>\n",
       "      <td>...</td>\n",
       "      <td>...</td>\n",
       "      <td>...</td>\n",
       "      <td>...</td>\n",
       "      <td>...</td>\n",
       "      <td>...</td>\n",
       "    </tr>\n",
       "    <tr>\n",
       "      <th>1086470</th>\n",
       "      <td>\\r\\n19</td>\n",
       "      <td>Sitting</td>\n",
       "      <td>1.316234e+14</td>\n",
       "      <td>9.040000</td>\n",
       "      <td>-1.460000</td>\n",
       "      <td>1.730000</td>\n",
       "    </tr>\n",
       "    <tr>\n",
       "      <th>1086471</th>\n",
       "      <td>\\r\\n19</td>\n",
       "      <td>Sitting</td>\n",
       "      <td>1.316234e+14</td>\n",
       "      <td>9.080000</td>\n",
       "      <td>-1.380000</td>\n",
       "      <td>1.690000</td>\n",
       "    </tr>\n",
       "    <tr>\n",
       "      <th>1086472</th>\n",
       "      <td>\\r\\n19</td>\n",
       "      <td>Sitting</td>\n",
       "      <td>1.316235e+14</td>\n",
       "      <td>9.000000</td>\n",
       "      <td>-1.460000</td>\n",
       "      <td>1.730000</td>\n",
       "    </tr>\n",
       "    <tr>\n",
       "      <th>1086473</th>\n",
       "      <td>\\r\\n19</td>\n",
       "      <td>Sitting</td>\n",
       "      <td>1.316235e+14</td>\n",
       "      <td>8.880000</td>\n",
       "      <td>-1.330000</td>\n",
       "      <td>1.610000</td>\n",
       "    </tr>\n",
       "    <tr>\n",
       "      <th>1086474</th>\n",
       "      <td>\\r\\n\\r\\n</td>\n",
       "      <td>NaN</td>\n",
       "      <td>NaN</td>\n",
       "      <td>NaN</td>\n",
       "      <td>NaN</td>\n",
       "      <td>NaN</td>\n",
       "    </tr>\n",
       "  </tbody>\n",
       "</table>\n",
       "<p>1086475 rows × 6 columns</p>\n",
       "</div>"
      ],
      "text/plain": [
       "             user activity     timestamp         x          y         z\n",
       "0              33  Jogging  4.910596e+13 -0.694638  12.680544  0.503953\n",
       "1              33  Jogging  4.910606e+13  5.012288  11.264028  0.953424\n",
       "2              33  Jogging  4.910611e+13  4.903325  10.882658 -0.081722\n",
       "3              33  Jogging  4.910622e+13 -0.612916  18.496431  3.023717\n",
       "4              33  Jogging  4.910633e+13 -1.184970  12.108489  7.205164\n",
       "...           ...      ...           ...       ...        ...       ...\n",
       "1086470    \\r\\n19  Sitting  1.316234e+14  9.040000  -1.460000  1.730000\n",
       "1086471    \\r\\n19  Sitting  1.316234e+14  9.080000  -1.380000  1.690000\n",
       "1086472    \\r\\n19  Sitting  1.316235e+14  9.000000  -1.460000  1.730000\n",
       "1086473    \\r\\n19  Sitting  1.316235e+14  8.880000  -1.330000  1.610000\n",
       "1086474  \\r\\n\\r\\n      NaN           NaN       NaN        NaN       NaN\n",
       "\n",
       "[1086475 rows x 6 columns]"
      ]
     },
     "execution_count": 76,
     "metadata": {},
     "output_type": "execute_result"
    }
   ],
   "source": [
    "raw_data"
   ]
  },
  {
   "cell_type": "markdown",
   "id": "6d94b71e",
   "metadata": {},
   "source": [
    "### 2. Data transformation\n",
    "\n",
    "Reshape the data into segments to a 3D shape with first dimention representing an example, second dimention represeting timesteps (sequences) and the third the 3 axis reading per time step"
   ]
  },
  {
   "cell_type": "code",
   "execution_count": 77,
   "id": "714ece4a",
   "metadata": {},
   "outputs": [],
   "source": [
    "STEP = 20\n",
    "TIME_STEPS = 200\n",
    "FEATURES = 3\n",
    "segments = []\n",
    "labels = []\n",
    "for i in range(0, len(raw_data) - TIME_STEPS, STEP):\n",
    "    xs = np.asarray(raw_data['x'][i:i + TIME_STEPS])\n",
    "    ys = np.asarray(raw_data['y'][i:i + TIME_STEPS])\n",
    "    zs = np.asarray(raw_data['z'][i:i + TIME_STEPS])\n",
    "    label = statistics.mode(raw_data['activity'][i:i + TIME_STEPS])[0][0]\n",
    "    segments.append([xs,ys,zs])\n",
    "    labels.append(label)    \n",
    "segments_processed = np.asarray(segments, dtype = np.float32).reshape(-1, TIME_STEPS, FEATURES)\n",
    "labels = np.asarray(pd.get_dummies(labels), dtype = np.float32)"
   ]
  },
  {
   "cell_type": "code",
   "execution_count": 78,
   "id": "71371acc",
   "metadata": {},
   "outputs": [
    {
     "data": {
      "text/plain": [
       "(54314, 200, 3)"
      ]
     },
     "execution_count": 78,
     "metadata": {},
     "output_type": "execute_result"
    }
   ],
   "source": [
    "segments_processed.shape"
   ]
  },
  {
   "cell_type": "code",
   "execution_count": 79,
   "id": "fe83bb76",
   "metadata": {},
   "outputs": [
    {
     "data": {
      "text/plain": [
       "array([[  3.568531  ,  -0.50395286,  -2.3018389 ],\n",
       "       [ -3.568531  ,  -0.8036005 ,   0.50395286],\n",
       "       [  5.706926  ,  -8.662541  ,  -1.334794  ],\n",
       "       [ -4.5900574 ,   3.8681788 ,  -1.7978859 ],\n",
       "       [  7.668256  ,  -2.3699405 ,   2.7240696 ],\n",
       "       [ -3.5957718 ,   3.9499009 ,   0.46309182],\n",
       "       [  3.7864566 ,   3.336985  ,   5.6660647 ],\n",
       "       [  0.23154591,  -4.8216033 ,   1.8387469 ],\n",
       "       [ -3.2961242 ,  11.604536  ,  -3.173541  ],\n",
       "       [  0.61291564,  -7.8861814 ,   3.1463003 ],\n",
       "       [ -3.0237172 ,  -0.08172209,  -1.0351465 ],\n",
       "       [ -2.4516625 ,  -1.3756552 ,  -2.4925237 ],\n",
       "       [  1.4573772 ,  -1.4165162 ,  -1.2666923 ],\n",
       "       [ -3.6774938 ,   1.8387469 ,  -1.2666923 ],\n",
       "       [  2.4108016 ,  -0.61291564,   0.04086104],\n",
       "       [ -7.6546354 ,  -1.2666923 ,  -5.012288  ],\n",
       "       [  1.9477097 ,  -5.053149  ,   9.384419  ],\n",
       "       [ -5.434519  ,  -0.61291564,   4.7126403 ],\n",
       "       [ -1.7570249 ,  -0.9125633 ,   2.6014864 ],\n",
       "       [  5.7886477 ,  -1.9885708 ,   1.4165162 ],\n",
       "       [  0.42223078,  -3.568531  ,  -4.671779  ],\n",
       "       [ -2.1383946 ,  -1.334794  ,  -2.9147544 ],\n",
       "       [  3.5276701 ,  -4.0588636 ,   7.5865335 ],\n",
       "       [ -5.175732  ,   1.1849703 ,  -3.718355  ],\n",
       "       [  3.173541  ,  -1.7297841 ,   0.84446156],\n",
       "       [  2.7649305 ,   2.3426998 ,   4.7943625 ],\n",
       "       [ -1.8387469 ,   5.366417  ,   2.1111538 ],\n",
       "       [  4.2086873 ,  -5.134871  ,   3.0237172 ],\n",
       "       [  2.070293  ,  -3.1054392 ,  -4.399372  ],\n",
       "       [  4.7535014 ,  -0.6946377 ,  -2.8330324 ],\n",
       "       [ -0.8036005 ,  -3.214402  ,  -2.8738933 ],\n",
       "       [ -4.4810944 ,   2.7921712 ,  -4.7535014 ],\n",
       "       [ -1.56634   ,  -3.214402  ,  -2.6423476 ],\n",
       "       [  0.5720546 ,  -1.525479  ,  -4.7535014 ],\n",
       "       [  1.7978859 ,  -0.8036005 ,  -1.2258313 ],\n",
       "       [ -4.630918  ,   1.9885708 ,  -4.630918  ],\n",
       "       [ 12.299174  ,   0.9942854 ,   1.0351465 ],\n",
       "       [ -9.384419  ,   2.9556155 ,  -2.3699405 ],\n",
       "       [ -1.879608  ,   1.1168685 ,   5.012288  ],\n",
       "       [ -3.336985  ,  -6.891896  ,   3.3778462 ],\n",
       "       [ -2.1383946 ,   5.284695  ,  -9.425281  ],\n",
       "       [  2.070293  ,   1.6480621 ,  -1.56634   ],\n",
       "       [ -6.932757  ,  -4.140586  ,   3.0237172 ],\n",
       "       [ -1.9885708 ,   2.9556155 ,   1.7297841 ],\n",
       "       [ -0.42223078,   3.1463003 ,  -0.5720546 ],\n",
       "       [  5.5162406 ,  -4.3312707 ,   5.5571017 ],\n",
       "       [  0.50395286,  -4.7126403 ,  -1.7297841 ],\n",
       "       [ -3.214402  ,  -2.3018389 ,  -4.7943625 ],\n",
       "       [  4.0588636 ,   1.6889231 ,   2.2609777 ],\n",
       "       [  2.2609777 ,   5.597963  ,  -2.070293  ],\n",
       "       [ -5.706926  ,   1.6889231 ,  -3.1463003 ],\n",
       "       [  5.7477865 ,   2.4516625 ,   5.706926  ],\n",
       "       [ -3.5276701 ,   5.284695  ,   0.08172209],\n",
       "       [ -6.5513873 ,  -0.23154591,  -4.5628166 ],\n",
       "       [ -0.50395286,  -0.50395286,   0.313268  ],\n",
       "       [ -1.9477097 ,   7.1234417 ,   2.152015  ],\n",
       "       [ -9.00305   ,   5.706926  ,  -7.014479  ],\n",
       "       [  7.9270425 ,  -0.        ,  -3.2961242 ],\n",
       "       [  6.5513873 ,  -0.95342433,   3.2961242 ],\n",
       "       [ -6.510526  ,   5.9793324 ,  -0.5720546 ],\n",
       "       [ -5.012288  ,   1.920469  ,   2.7921712 ],\n",
       "       [ -0.95342433, -10.079058  ,   4.372132  ],\n",
       "       [ -1.3075534 ,   0.38136974,   3.1054392 ],\n",
       "       [  2.4516625 ,  -1.2258313 ,   3.8273177 ],\n",
       "       [  0.08172209,  -1.525479  ,  -1.4573772 ],\n",
       "       [ -6.701211  ,  -1.56634   ,  -0.95342433],\n",
       "       [ -0.9125633 ,  -2.0294318 ,  13.6748295 ],\n",
       "       [  3.8681788 ,   1.6889231 ,  19.57244   ],\n",
       "       [ -3.2961242 ,  10.841797  ,  15.595298  ],\n",
       "       [  7.273266  ,   1.2258313 ,  19.57244   ],\n",
       "       [  3.759216  ,   1.5390993 ,  11.264028  ],\n",
       "       [ 14.2877445 ,   1.4573772 ,  18.659876  ],\n",
       "       [  4.140586  ,  -2.4108016 ,  14.137921  ],\n",
       "       [ 19.231932  ,   3.7864566 ,   0.7627395 ],\n",
       "       [ 19.57244   ,  -1.1168685 ,  10.079058  ],\n",
       "       [ 17.079916  ,  14.015338  ,   1.1168685 ],\n",
       "       [ 19.57244   ,   5.243834  ,  -4.3312707 ],\n",
       "       [ 11.917805  ,  14.818938  ,   2.5333846 ],\n",
       "       [  2.070293  ,  19.57244   ,  -5.243834  ],\n",
       "       [  9.80665   ,  14.709975  ,   3.173541  ],\n",
       "       [  2.7649305 ,  19.313654  ,  -7.6546354 ],\n",
       "       [ 16.358038  ,  17.502148  ,   7.8180795 ],\n",
       "       [  0.7218784 ,  19.57244   ,   2.7921712 ],\n",
       "       [  1.6480621 ,  13.443283  ,  13.211738  ],\n",
       "       [  1.879608  ,  -6.5513873 ,   9.302697  ],\n",
       "       [ 10.501288  ,  19.381754  ,   3.214402  ],\n",
       "       [ 12.4489975 ,  16.780268  ,  -8.267551  ],\n",
       "       [ 10.95076   ,  11.727119  ,   1.6889231 ],\n",
       "       [  2.4925237 ,  19.57244   ,  -3.9499009 ],\n",
       "       [ 10.038197  ,  13.33432   ,  14.1787815 ],\n",
       "       [  2.1111538 ,  19.463476  ,   6.510526  ],\n",
       "       [ -5.6252036 ,  12.980191  ,  17.352324  ],\n",
       "       [ 15.894946  ,   3.8273177 ,  12.830367  ],\n",
       "       [ 14.410328  ,   0.27240697,  11.454713  ],\n",
       "       [  9.00305   ,   7.164303  ,   3.486809  ],\n",
       "       [  4.862464  ,  19.531578  ,  -3.2961242 ],\n",
       "       [ -7.6273947 ,   6.5513873 ,  10.460427  ],\n",
       "       [  3.0645783 ,   3.5957718 ,  19.504337  ],\n",
       "       [ -1.7570249 ,   4.2086873 ,   3.759216  ],\n",
       "       [  2.9556155 ,  19.57244   ,  -1.4982382 ],\n",
       "       [ -7.7363577 ,  18.537292  ,  14.410328  ],\n",
       "       [  3.255263  ,   3.990762  ,  19.57244   ],\n",
       "       [ -1.3756552 ,   1.920469  ,  17.883516  ],\n",
       "       [ 15.241169  ,   1.7570249 ,  19.57244   ],\n",
       "       [  5.597963  ,  -5.366417  ,  10.882658  ],\n",
       "       [ 18.496431  ,   4.372132  ,  16.589584  ],\n",
       "       [ 19.57244   ,  -0.6537767 ,  15.554437  ],\n",
       "       [  1.6480621 ,  18.959524  ,  19.57244   ],\n",
       "       [ -2.6014864 ,  -7.7772183 ,  13.33432   ],\n",
       "       [ 12.871228  ,   2.3699405 ,   5.9793324 ],\n",
       "       [ 19.57244   ,  -5.325556  ,  14.1787815 ],\n",
       "       [ 17.24336   ,  18.727978  ,   3.7864566 ],\n",
       "       [ 15.6634    ,  14.709975  ,  -7.7772183 ],\n",
       "       [  6.891896  ,   8.962189  ,   3.486809  ],\n",
       "       [  0.84446156,  18.428331  ,  14.628253  ],\n",
       "       [ -0.7218784 ,  15.213928  ,  18.578154  ],\n",
       "       [  4.630918  ,   1.8387469 ,  19.57244   ],\n",
       "       [ -1.9885708 ,   0.23154591,  15.28203   ],\n",
       "       [ 19.340895  ,   4.2086873 ,   8.049625  ],\n",
       "       [ 16.358038  ,  -6.701211  ,  17.011814  ],\n",
       "       [ 15.5135765 ,   4.0180025 ,   0.6946377 ],\n",
       "       [ 19.57244   ,  -2.1792557 ,   6.701211  ],\n",
       "       [ 16.276316  ,  18.727978  ,   5.407278  ],\n",
       "       [  4.7126403 ,  17.270601  ,  12.830367  ],\n",
       "       [ -6.742072  ,   2.5606253 ,  16.86199   ],\n",
       "       [ 17.052675  ,   4.2904096 ,  18.115063  ],\n",
       "       [ 10.501288  ,  -6.1291566 ,  13.021052  ],\n",
       "       [ 15.785983  ,   3.1463003 ,   8.008764  ],\n",
       "       [ 19.57244   ,   5.8567495 ,  -4.2086873 ],\n",
       "       [ 14.2877445 ,  19.082108  ,   4.7943625 ],\n",
       "       [  9.656827  ,  18.04696   ,  -7.8861814 ],\n",
       "       [ 17.352324  ,  14.056199  ,   4.5628166 ],\n",
       "       [  1.2666923 ,  19.57244   ,  -3.9499009 ],\n",
       "       [ 11.413852  ,   1.5390993 ,   3.718355  ],\n",
       "       [  0.08172209,   6.510526  ,  -4.630918  ],\n",
       "       [ 13.525005  ,   6.1700177 ,   4.0180025 ],\n",
       "       [  2.3699405 ,   4.7126403 ,   0.84446156],\n",
       "       [  8.730643  ,  -1.3075534 ,   8.281172  ],\n",
       "       [  0.88532263,  -0.6537767 ,   3.990762  ],\n",
       "       [  2.4108016 ,  -3.1463003 ,   6.5513873 ],\n",
       "       [  0.53119355,   0.7627395 ,   8.158588  ],\n",
       "       [ -2.7921712 ,  13.824653  ,   1.334794  ],\n",
       "       [  5.706926  ,   2.5606253 ,   1.9885708 ],\n",
       "       [  4.671779  ,  -3.336985  ,  -7.8861814 ],\n",
       "       [  4.6036777 ,   3.486809  ,  -0.19068487],\n",
       "       [  6.469665  ,  -4.372132  ,   5.7477865 ],\n",
       "       [  6.2108784 ,   3.7864566 ,  -1.7570249 ],\n",
       "       [  6.3198414 ,  -6.1291566 ,   4.944186  ],\n",
       "       [  2.5333846 ,   4.372132  ,   0.8036005 ],\n",
       "       [  5.5162406 ,   2.070293  ,   7.6273947 ],\n",
       "       [  1.0351465 ,   6.4424243 ,   1.4165162 ],\n",
       "       [ -6.0201936 ,  -6.428804  ,  -0.27240697],\n",
       "       [  4.440233  ,   1.1441092 ,  -2.7240696 ],\n",
       "       [  8.471856  ,  -7.3549876 ,  -0.8036005 ],\n",
       "       [  0.38136974,   3.5276701 ,  -0.3405087 ],\n",
       "       [  7.5865335 ,  -1.920469  ,  14.2877445 ],\n",
       "       [  3.8681788 ,   5.5162406 ,   2.2201166 ],\n",
       "       [ -0.8036005 ,   4.2086873 ,  -4.3312707 ],\n",
       "       [ 11.563675  ,   7.7363577 ,   3.6774938 ],\n",
       "       [  0.9942854 ,  -1.56634   ,   6.742072  ],\n",
       "       [  2.6423476 ,   7.6273947 ,  -3.173541  ],\n",
       "       [  0.08172209,   1.7570249 ,  -0.04086104],\n",
       "       [  5.053149  ,  -2.1383946 ,  -7.8180795 ],\n",
       "       [ -7.9679036 ,   0.23154591,   3.255263  ],\n",
       "       [  0.10896278,   5.9793324 ,   0.19068487],\n",
       "       [ 11.141444  ,   3.255263  ,   0.7627395 ],\n",
       "       [  8.008764  ,  -0.38136974,  -8.580819  ],\n",
       "       [ -3.1054392 ,   1.0760075 ,   3.990762  ],\n",
       "       [  0.8036005 ,   6.3607025 ,  -0.5720546 ],\n",
       "       [  8.281172  ,   5.325556  ,   5.325556  ],\n",
       "       [  1.9885708 ,   0.10896278,   4.630918  ],\n",
       "       [ -2.7513103 ,  -7.7772183 ,   3.5957718 ],\n",
       "       [  1.334794  ,  -4.671779  ,   6.238119  ],\n",
       "       [  2.3018389 ,   4.372132  ,  -0.29964766],\n",
       "       [ -4.903325  ,   8.008764  ,  -1.4573772 ],\n",
       "       [ -9.112013  ,  -6.3198414 ,  -0.84446156],\n",
       "       [  2.0294318 ,   0.04086104,   7.6273947 ],\n",
       "       [ -2.7513103 ,   9.888372  ,   5.407278  ],\n",
       "       [  4.671779  ,   1.1849703 ,  -3.445948  ],\n",
       "       [  7.43671   ,  -8.921328  , -11.032481  ],\n",
       "       [ -2.1111538 ,   3.6774938 ,   1.3075534 ],\n",
       "       [ -4.9850473 ,   9.00305   ,   1.3075534 ],\n",
       "       [  7.5865335 ,   4.630918  ,  -0.08172209],\n",
       "       [  1.0351465 ,   6.4015636 ,   0.42223078],\n",
       "       [  5.597963  ,   1.0351465 ,   5.366417  ],\n",
       "       [  1.56634   ,  -0.61291564,   9.112013  ],\n",
       "       [ -7.5456724 ,  -4.372132  ,   0.8036005 ],\n",
       "       [  3.0645783 ,  -0.27240697,   7.6954966 ],\n",
       "       [ -2.1111538 ,  11.686258  ,   2.8330324 ],\n",
       "       [  4.8216033 ,   2.7921712 ,   0.6537767 ],\n",
       "       [ -6.3198414 ,   7.6273947 ,  -8.349273  ],\n",
       "       [  9.575105  ,   2.2201166 ,   4.4810944 ],\n",
       "       [  0.08172209,  -5.8567495 ,   7.1234417 ],\n",
       "       [ -9.112013  ,  -5.7477865 ,   1.4165162 ],\n",
       "       [  1.4165162 ,  -0.42223078,  -1.7570249 ],\n",
       "       [  5.5162406 ,  -7.082581  ,  -3.568531  ],\n",
       "       [  5.012288  ,   1.7978859 ,  -1.56634   ],\n",
       "       [  6.851035  ,  -8.19945   ,  -1.8387469 ],\n",
       "       [  2.982856  ,   3.1054392 ,   0.88532263],\n",
       "       [  8.349273  ,  -2.982856  ,  15.4046135 ]], dtype=float32)"
      ]
     },
     "execution_count": 79,
     "metadata": {},
     "output_type": "execute_result"
    }
   ],
   "source": [
    "segments_processed[1]"
   ]
  },
  {
   "cell_type": "code",
   "execution_count": 80,
   "id": "f1dca9f0",
   "metadata": {},
   "outputs": [
    {
     "data": {
      "text/plain": [
       "(54314, 5)"
      ]
     },
     "execution_count": 80,
     "metadata": {},
     "output_type": "execute_result"
    }
   ],
   "source": [
    "labels.shape"
   ]
  },
  {
   "cell_type": "code",
   "execution_count": 81,
   "id": "00129728",
   "metadata": {},
   "outputs": [],
   "source": [
    "X_train, X_test, y_train, y_test = train_test_split(segments_processed, labels, test_size=0.2)"
   ]
  },
  {
   "cell_type": "markdown",
   "id": "64abf2b1",
   "metadata": {},
   "source": [
    "### 3. Train"
   ]
  },
  {
   "cell_type": "code",
   "execution_count": 82,
   "id": "b7d54063",
   "metadata": {},
   "outputs": [
    {
     "name": "stdout",
     "output_type": "stream",
     "text": [
      "Model: \"sequential_7\"\n",
      "_________________________________________________________________\n",
      " Layer (type)                Output Shape              Param #   \n",
      "=================================================================\n",
      " lstm_7 (LSTM)               (1, 128)                  67584     \n",
      "                                                                 \n",
      " dense_5 (Dense)             (1, 5)                    645       \n",
      "                                                                 \n",
      "=================================================================\n",
      "Total params: 68,229\n",
      "Trainable params: 68,229\n",
      "Non-trainable params: 0\n",
      "_________________________________________________________________\n"
     ]
    }
   ],
   "source": [
    "model = Sequential()\n",
    "model.add(LSTM(128))\n",
    "model.add(Dense(5))\n",
    "model.build((1, 200, 3)) \n",
    "model.summary()"
   ]
  },
  {
   "cell_type": "code",
   "execution_count": 83,
   "id": "0b47adc1",
   "metadata": {},
   "outputs": [],
   "source": [
    "model.compile(optimizer=\"adam\", loss=\"mse\", metrics=[\"accuracy\"])"
   ]
  },
  {
   "cell_type": "code",
   "execution_count": 84,
   "id": "876cfa1b",
   "metadata": {},
   "outputs": [
    {
     "name": "stdout",
     "output_type": "stream",
     "text": [
      "Epoch 1/20\n",
      "43/43 [==============================] - 37s 814ms/step - loss: 0.1258 - accuracy: 0.5451\n",
      "Epoch 2/20\n",
      "43/43 [==============================] - 35s 826ms/step - loss: 0.0816 - accuracy: 0.7205\n",
      "Epoch 3/20\n",
      "43/43 [==============================] - 35s 809ms/step - loss: 0.0513 - accuracy: 0.8231\n",
      "Epoch 4/20\n",
      "43/43 [==============================] - 35s 804ms/step - loss: 0.0447 - accuracy: 0.8383\n",
      "Epoch 5/20\n",
      "43/43 [==============================] - 36s 839ms/step - loss: 0.0395 - accuracy: 0.8585\n",
      "Epoch 6/20\n",
      "43/43 [==============================] - 35s 810ms/step - loss: 0.0374 - accuracy: 0.8672\n",
      "Epoch 7/20\n",
      "43/43 [==============================] - 35s 808ms/step - loss: 0.0358 - accuracy: 0.8748\n",
      "Epoch 8/20\n",
      "43/43 [==============================] - 35s 820ms/step - loss: 0.0346 - accuracy: 0.8815\n",
      "Epoch 9/20\n",
      "43/43 [==============================] - 35s 813ms/step - loss: 0.0326 - accuracy: 0.8894\n",
      "Epoch 10/20\n",
      "43/43 [==============================] - 36s 826ms/step - loss: 0.0307 - accuracy: 0.8957\n",
      "Epoch 11/20\n",
      "43/43 [==============================] - 35s 807ms/step - loss: 0.0284 - accuracy: 0.9052\n",
      "Epoch 12/20\n",
      "43/43 [==============================] - 35s 810ms/step - loss: 0.0273 - accuracy: 0.9103\n",
      "Epoch 13/20\n",
      "43/43 [==============================] - 35s 810ms/step - loss: 0.0253 - accuracy: 0.9187\n",
      "Epoch 14/20\n",
      "43/43 [==============================] - 35s 811ms/step - loss: 0.0256 - accuracy: 0.9175\n",
      "Epoch 15/20\n",
      "43/43 [==============================] - 35s 811ms/step - loss: 0.0269 - accuracy: 0.9150\n",
      "Epoch 16/20\n",
      "43/43 [==============================] - 35s 811ms/step - loss: 0.0243 - accuracy: 0.9244\n",
      "Epoch 17/20\n",
      "43/43 [==============================] - 39s 905ms/step - loss: 0.0213 - accuracy: 0.9330\n",
      "Epoch 18/20\n",
      "43/43 [==============================] - 39s 909ms/step - loss: 0.0200 - accuracy: 0.9378\n",
      "Epoch 19/20\n",
      "43/43 [==============================] - 37s 854ms/step - loss: 0.0200 - accuracy: 0.9378\n",
      "Epoch 20/20\n",
      "43/43 [==============================] - 37s 859ms/step - loss: 0.0203 - accuracy: 0.9367\n"
     ]
    },
    {
     "data": {
      "text/plain": [
       "<keras.callbacks.History at 0x7fa674751880>"
      ]
     },
     "execution_count": 84,
     "metadata": {},
     "output_type": "execute_result"
    }
   ],
   "source": [
    "model.fit(X_train, y_train, batch_size=1024, epochs = 20)"
   ]
  },
  {
   "cell_type": "code",
   "execution_count": 85,
   "id": "3d2d2ccc",
   "metadata": {},
   "outputs": [
    {
     "name": "stdout",
     "output_type": "stream",
     "text": [
      "340/340 [==============================] - 9s 24ms/step - loss: 0.0220 - accuracy: 0.9293\n"
     ]
    },
    {
     "data": {
      "text/plain": [
       "[0.02204125188291073, 0.9293013215065002]"
      ]
     },
     "execution_count": 85,
     "metadata": {},
     "output_type": "execute_result"
    }
   ],
   "source": [
    "model.evaluate(X_test, y_test)"
   ]
  },
  {
   "cell_type": "code",
   "execution_count": null,
   "id": "bc9f0886",
   "metadata": {},
   "outputs": [],
   "source": []
  }
 ],
 "metadata": {
  "kernelspec": {
   "display_name": "Python 3 (ipykernel)",
   "language": "python",
   "name": "python3"
  },
  "language_info": {
   "codemirror_mode": {
    "name": "ipython",
    "version": 3
   },
   "file_extension": ".py",
   "mimetype": "text/x-python",
   "name": "python",
   "nbconvert_exporter": "python",
   "pygments_lexer": "ipython3",
   "version": "3.8.12"
  }
 },
 "nbformat": 4,
 "nbformat_minor": 5
}
