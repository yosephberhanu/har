{
 "cells": [
  {
   "cell_type": "markdown",
   "id": "c2122c4a",
   "metadata": {},
   "source": [
    "## Human Activity Recognition using RNN"
   ]
  },
  {
   "cell_type": "markdown",
   "id": "14fb53ba",
   "metadata": {},
   "source": [
    "### 0. Install the dependacy packages"
   ]
  },
  {
   "cell_type": "code",
   "execution_count": 1,
   "id": "43189ef0",
   "metadata": {},
   "outputs": [
    {
     "name": "stdout",
     "output_type": "stream",
     "text": [
      "Requirement already satisfied: numpy in /Users/yoseph/opt/anaconda3/envs/udacity/lib/python3.8/site-packages (1.23.5)\n",
      "Requirement already satisfied: pandas in /Users/yoseph/opt/anaconda3/envs/udacity/lib/python3.8/site-packages (1.5.2)\n",
      "Requirement already satisfied: tensorflow in /Users/yoseph/opt/anaconda3/envs/udacity/lib/python3.8/site-packages (2.11.0)\n",
      "Requirement already satisfied: pytz>=2020.1 in /Users/yoseph/opt/anaconda3/envs/udacity/lib/python3.8/site-packages (from pandas) (2022.6)\n",
      "Requirement already satisfied: python-dateutil>=2.8.1 in /Users/yoseph/opt/anaconda3/envs/udacity/lib/python3.8/site-packages (from pandas) (2.8.2)\n",
      "Requirement already satisfied: six>=1.12.0 in /Users/yoseph/opt/anaconda3/envs/udacity/lib/python3.8/site-packages (from tensorflow) (1.16.0)\n",
      "Requirement already satisfied: libclang>=13.0.0 in /Users/yoseph/opt/anaconda3/envs/udacity/lib/python3.8/site-packages (from tensorflow) (14.0.6)\n",
      "Requirement already satisfied: wrapt>=1.11.0 in /Users/yoseph/opt/anaconda3/envs/udacity/lib/python3.8/site-packages (from tensorflow) (1.14.1)\n",
      "Requirement already satisfied: gast<=0.4.0,>=0.2.1 in /Users/yoseph/opt/anaconda3/envs/udacity/lib/python3.8/site-packages (from tensorflow) (0.4.0)\n",
      "Requirement already satisfied: tensorflow-estimator<2.12,>=2.11.0 in /Users/yoseph/opt/anaconda3/envs/udacity/lib/python3.8/site-packages (from tensorflow) (2.11.0)\n",
      "Requirement already satisfied: opt-einsum>=2.3.2 in /Users/yoseph/opt/anaconda3/envs/udacity/lib/python3.8/site-packages (from tensorflow) (3.3.0)\n",
      "Requirement already satisfied: packaging in /Users/yoseph/opt/anaconda3/envs/udacity/lib/python3.8/site-packages (from tensorflow) (21.3)\n",
      "Requirement already satisfied: keras<2.12,>=2.11.0 in /Users/yoseph/opt/anaconda3/envs/udacity/lib/python3.8/site-packages (from tensorflow) (2.11.0)\n",
      "Requirement already satisfied: tensorboard<2.12,>=2.11 in /Users/yoseph/opt/anaconda3/envs/udacity/lib/python3.8/site-packages (from tensorflow) (2.11.0)\n",
      "Requirement already satisfied: h5py>=2.9.0 in /Users/yoseph/opt/anaconda3/envs/udacity/lib/python3.8/site-packages (from tensorflow) (3.7.0)\n",
      "Requirement already satisfied: tensorflow-io-gcs-filesystem>=0.23.1 in /Users/yoseph/opt/anaconda3/envs/udacity/lib/python3.8/site-packages (from tensorflow) (0.28.0)\n",
      "Requirement already satisfied: absl-py>=1.0.0 in /Users/yoseph/opt/anaconda3/envs/udacity/lib/python3.8/site-packages (from tensorflow) (1.3.0)\n",
      "Requirement already satisfied: typing-extensions>=3.6.6 in /Users/yoseph/opt/anaconda3/envs/udacity/lib/python3.8/site-packages (from tensorflow) (4.1.1)\n",
      "Requirement already satisfied: termcolor>=1.1.0 in /Users/yoseph/opt/anaconda3/envs/udacity/lib/python3.8/site-packages (from tensorflow) (2.1.1)\n",
      "Requirement already satisfied: protobuf<3.20,>=3.9.2 in /Users/yoseph/opt/anaconda3/envs/udacity/lib/python3.8/site-packages (from tensorflow) (3.19.6)\n",
      "Requirement already satisfied: setuptools in /Users/yoseph/opt/anaconda3/envs/udacity/lib/python3.8/site-packages (from tensorflow) (58.0.4)\n",
      "Requirement already satisfied: grpcio<2.0,>=1.24.3 in /Users/yoseph/opt/anaconda3/envs/udacity/lib/python3.8/site-packages (from tensorflow) (1.50.0)\n",
      "Requirement already satisfied: flatbuffers>=2.0 in /Users/yoseph/opt/anaconda3/envs/udacity/lib/python3.8/site-packages (from tensorflow) (22.11.23)\n",
      "Requirement already satisfied: google-pasta>=0.1.1 in /Users/yoseph/opt/anaconda3/envs/udacity/lib/python3.8/site-packages (from tensorflow) (0.2.0)\n",
      "Requirement already satisfied: astunparse>=1.6.0 in /Users/yoseph/opt/anaconda3/envs/udacity/lib/python3.8/site-packages (from tensorflow) (1.6.3)\n",
      "Requirement already satisfied: wheel<1.0,>=0.23.0 in /Users/yoseph/opt/anaconda3/envs/udacity/lib/python3.8/site-packages (from astunparse>=1.6.0->tensorflow) (0.37.1)\n",
      "Requirement already satisfied: google-auth-oauthlib<0.5,>=0.4.1 in /Users/yoseph/opt/anaconda3/envs/udacity/lib/python3.8/site-packages (from tensorboard<2.12,>=2.11->tensorflow) (0.4.6)\n",
      "Requirement already satisfied: tensorboard-plugin-wit>=1.6.0 in /Users/yoseph/opt/anaconda3/envs/udacity/lib/python3.8/site-packages (from tensorboard<2.12,>=2.11->tensorflow) (1.8.1)\n",
      "Requirement already satisfied: markdown>=2.6.8 in /Users/yoseph/opt/anaconda3/envs/udacity/lib/python3.8/site-packages (from tensorboard<2.12,>=2.11->tensorflow) (3.4.1)\n",
      "Requirement already satisfied: requests<3,>=2.21.0 in /Users/yoseph/opt/anaconda3/envs/udacity/lib/python3.8/site-packages (from tensorboard<2.12,>=2.11->tensorflow) (2.28.1)\n",
      "Requirement already satisfied: tensorboard-data-server<0.7.0,>=0.6.0 in /Users/yoseph/opt/anaconda3/envs/udacity/lib/python3.8/site-packages (from tensorboard<2.12,>=2.11->tensorflow) (0.6.1)\n",
      "Requirement already satisfied: google-auth<3,>=1.6.3 in /Users/yoseph/opt/anaconda3/envs/udacity/lib/python3.8/site-packages (from tensorboard<2.12,>=2.11->tensorflow) (2.14.1)\n",
      "Requirement already satisfied: werkzeug>=1.0.1 in /Users/yoseph/opt/anaconda3/envs/udacity/lib/python3.8/site-packages (from tensorboard<2.12,>=2.11->tensorflow) (2.2.2)\n",
      "Requirement already satisfied: pyasn1-modules>=0.2.1 in /Users/yoseph/opt/anaconda3/envs/udacity/lib/python3.8/site-packages (from google-auth<3,>=1.6.3->tensorboard<2.12,>=2.11->tensorflow) (0.2.8)\n",
      "Requirement already satisfied: cachetools<6.0,>=2.0.0 in /Users/yoseph/opt/anaconda3/envs/udacity/lib/python3.8/site-packages (from google-auth<3,>=1.6.3->tensorboard<2.12,>=2.11->tensorflow) (5.2.0)\n",
      "Requirement already satisfied: rsa<5,>=3.1.4 in /Users/yoseph/opt/anaconda3/envs/udacity/lib/python3.8/site-packages (from google-auth<3,>=1.6.3->tensorboard<2.12,>=2.11->tensorflow) (4.9)\n",
      "Requirement already satisfied: requests-oauthlib>=0.7.0 in /Users/yoseph/opt/anaconda3/envs/udacity/lib/python3.8/site-packages (from google-auth-oauthlib<0.5,>=0.4.1->tensorboard<2.12,>=2.11->tensorflow) (1.3.1)\n",
      "Requirement already satisfied: importlib-metadata>=4.4 in /Users/yoseph/opt/anaconda3/envs/udacity/lib/python3.8/site-packages (from markdown>=2.6.8->tensorboard<2.12,>=2.11->tensorflow) (5.1.0)\n",
      "Requirement already satisfied: zipp>=0.5 in /Users/yoseph/opt/anaconda3/envs/udacity/lib/python3.8/site-packages (from importlib-metadata>=4.4->markdown>=2.6.8->tensorboard<2.12,>=2.11->tensorflow) (3.8.0)\n",
      "Requirement already satisfied: pyasn1<0.5.0,>=0.4.6 in /Users/yoseph/opt/anaconda3/envs/udacity/lib/python3.8/site-packages (from pyasn1-modules>=0.2.1->google-auth<3,>=1.6.3->tensorboard<2.12,>=2.11->tensorflow) (0.4.8)\n",
      "Requirement already satisfied: charset-normalizer<3,>=2 in /Users/yoseph/opt/anaconda3/envs/udacity/lib/python3.8/site-packages (from requests<3,>=2.21.0->tensorboard<2.12,>=2.11->tensorflow) (2.1.1)\n",
      "Requirement already satisfied: certifi>=2017.4.17 in /Users/yoseph/opt/anaconda3/envs/udacity/lib/python3.8/site-packages (from requests<3,>=2.21.0->tensorboard<2.12,>=2.11->tensorflow) (2022.5.18.1)\n",
      "Requirement already satisfied: urllib3<1.27,>=1.21.1 in /Users/yoseph/opt/anaconda3/envs/udacity/lib/python3.8/site-packages (from requests<3,>=2.21.0->tensorboard<2.12,>=2.11->tensorflow) (1.26.13)\n",
      "Requirement already satisfied: idna<4,>=2.5 in /Users/yoseph/opt/anaconda3/envs/udacity/lib/python3.8/site-packages (from requests<3,>=2.21.0->tensorboard<2.12,>=2.11->tensorflow) (3.4)\n",
      "Requirement already satisfied: oauthlib>=3.0.0 in /Users/yoseph/opt/anaconda3/envs/udacity/lib/python3.8/site-packages (from requests-oauthlib>=0.7.0->google-auth-oauthlib<0.5,>=0.4.1->tensorboard<2.12,>=2.11->tensorflow) (3.2.2)\n",
      "Requirement already satisfied: MarkupSafe>=2.1.1 in /Users/yoseph/opt/anaconda3/envs/udacity/lib/python3.8/site-packages (from werkzeug>=1.0.1->tensorboard<2.12,>=2.11->tensorflow) (2.1.1)\n",
      "Requirement already satisfied: pyparsing!=3.0.5,>=2.0.2 in /Users/yoseph/opt/anaconda3/envs/udacity/lib/python3.8/site-packages (from packaging->tensorflow) (3.0.4)\n"
     ]
    }
   ],
   "source": [
    "!pip install numpy pandas tensorflow"
   ]
  },
  {
   "cell_type": "markdown",
   "id": "8ccaac0b",
   "metadata": {},
   "source": [
    "### 1. Load the training and test data"
   ]
  },
  {
   "cell_type": "markdown",
   "id": "cb86ec40",
   "metadata": {},
   "source": [
    "#### 1.1 make the necessary imports"
   ]
  },
  {
   "cell_type": "code",
   "execution_count": 1,
   "id": "decb557c",
   "metadata": {},
   "outputs": [
    {
     "name": "stderr",
     "output_type": "stream",
     "text": [
      "2022-11-28 12:09:36.173141: I tensorflow/core/platform/cpu_feature_guard.cc:193] This TensorFlow binary is optimized with oneAPI Deep Neural Network Library (oneDNN) to use the following CPU instructions in performance-critical operations:  AVX2 FMA\n",
      "To enable them in other operations, rebuild TensorFlow with the appropriate compiler flags.\n"
     ]
    }
   ],
   "source": [
    "import numpy as np\n",
    "import pandas as pd\n",
    "from tensorflow.keras import Sequential\n",
    "from tensorflow.keras.layers import Dense,Dropout, LSTM, ConvLSTM2D, Flatten\n",
    "from tensorflow.keras.utils import to_categorical\n"
   ]
  },
  {
   "cell_type": "markdown",
   "id": "fc16b767",
   "metadata": {},
   "source": [
    "#### 1.2 Uitility functions for loading the data"
   ]
  },
  {
   "cell_type": "code",
   "execution_count": 2,
   "id": "e756143e",
   "metadata": {},
   "outputs": [],
   "source": [
    "def load_file(filepath):\n",
    "    dataframe = pd.read_csv(filepath, header=None, delim_whitespace=True)\n",
    "    return dataframe.values"
   ]
  },
  {
   "cell_type": "code",
   "execution_count": 3,
   "id": "fa37cfeb",
   "metadata": {},
   "outputs": [],
   "source": [
    "def load_group(filenames, prefix=''):\n",
    "    loaded = list()\n",
    "    for name in filenames:\n",
    "        data = load_file(prefix + name)\n",
    "        loaded.append(data)\n",
    "        # stack group so that features are the 3rd dimension\n",
    "    loaded = np.dstack(loaded)\n",
    "    return loaded"
   ]
  },
  {
   "cell_type": "code",
   "execution_count": 4,
   "id": "dbb1226e",
   "metadata": {},
   "outputs": [],
   "source": [
    "def load_dataset_group(group, prefix=''):\n",
    "    filepath = prefix + group + '/Inertial Signals/'\n",
    "    # load all 9 files as a single array\n",
    "    filenames = list()\n",
    "    # total acceleration\n",
    "    filenames += ['total_acc_x_'+group+'.txt', 'total_acc_y_'+group+'.txt', 'total_acc_z_'+group+'.txt']\n",
    "    # body acceleration\n",
    "    filenames += ['body_acc_x_'+group+'.txt', 'body_acc_y_'+group+'.txt', 'body_acc_z_'+group+'.txt']\n",
    "    # body gyroscope\n",
    "    filenames += ['body_gyro_x_'+group+'.txt', 'body_gyro_y_'+group+'.txt', 'body_gyro_z_'+group+'.txt']\n",
    "    # load input data\n",
    "    X = load_group(filenames, filepath)\n",
    "    # load class output\n",
    "    y = load_file(prefix + group + '/y_'+group+'.txt')\n",
    "    return X, y"
   ]
  },
  {
   "cell_type": "code",
   "execution_count": 5,
   "id": "457b4161",
   "metadata": {},
   "outputs": [],
   "source": [
    "def load_dataset(prefix=''):\n",
    "    # load all train\n",
    "    trainX, trainy = load_dataset_group('train', prefix + 'dataset/')\n",
    "    # load all test\n",
    "    testX, testy = load_dataset_group('test', prefix + 'dataset/')\n",
    "    return trainX, trainy, testX, testy\n"
   ]
  },
  {
   "cell_type": "code",
   "execution_count": 6,
   "id": "72fc8485",
   "metadata": {},
   "outputs": [],
   "source": [
    "train_X, train_Y, test_X, test_Y = load_dataset()"
   ]
  },
  {
   "cell_type": "markdown",
   "id": "6b5a47c9",
   "metadata": {},
   "source": [
    "### 2. Try to understand the data"
   ]
  },
  {
   "cell_type": "code",
   "execution_count": 7,
   "id": "142b7581",
   "metadata": {},
   "outputs": [
    {
     "name": "stdout",
     "output_type": "stream",
     "text": [
      "(7352, 128, 9)\n",
      "(7352, 1)\n"
     ]
    }
   ],
   "source": [
    "print(train_X.shape)\n",
    "print(train_Y.shape)"
   ]
  },
  {
   "cell_type": "code",
   "execution_count": 8,
   "id": "bd23cf6a",
   "metadata": {},
   "outputs": [
    {
     "name": "stdout",
     "output_type": "stream",
     "text": [
      "(2947, 128, 9)\n",
      "(2947, 1)\n"
     ]
    }
   ],
   "source": [
    "print(test_X.shape)\n",
    "print(test_Y.shape)"
   ]
  },
  {
   "cell_type": "code",
   "execution_count": 9,
   "id": "01544c60",
   "metadata": {},
   "outputs": [
    {
     "data": {
      "text/plain": [
       "array([ 1.02238   , -0.1268078 ,  0.09935086,  0.00455008, -0.00748789,\n",
       "       -0.02509841,  0.02417851,  0.00971036,  0.01614958])"
      ]
     },
     "execution_count": 9,
     "metadata": {},
     "output_type": "execute_result"
    }
   ],
   "source": [
    "# Features for a single subject in a single timestampe\n",
    "train_X[1,1,:]"
   ]
  },
  {
   "cell_type": "code",
   "execution_count": 10,
   "id": "0a5086bb",
   "metadata": {},
   "outputs": [
    {
     "data": {
      "text/plain": [
       "array([1, 2, 3, 4, 5, 6])"
      ]
     },
     "execution_count": 10,
     "metadata": {},
     "output_type": "execute_result"
    }
   ],
   "source": [
    "# Possible output values\n",
    "np.unique(train_Y)"
   ]
  },
  {
   "cell_type": "markdown",
   "id": "e4fe1485",
   "metadata": {},
   "source": [
    "### 3. Preprocessing"
   ]
  },
  {
   "cell_type": "markdown",
   "id": "d79faf9f",
   "metadata": {},
   "source": [
    "#### 2.1 Zero offset the output class values and one-hot encode"
   ]
  },
  {
   "cell_type": "markdown",
   "id": "309861b9",
   "metadata": {},
   "source": [
    "The output data set is in the values range 1-6. We'll convert this to the range 0-5 and one hot encode it"
   ]
  },
  {
   "cell_type": "code",
   "execution_count": 11,
   "id": "8458115b",
   "metadata": {},
   "outputs": [],
   "source": [
    "# zero-offset class values\n",
    "train_Y,test_Y = train_Y -1, test_Y - 1\n",
    "# one hot encode y\n",
    "train_Y = to_categorical(train_Y)\n",
    "test_Y = to_categorical(test_Y)"
   ]
  },
  {
   "cell_type": "code",
   "execution_count": 12,
   "id": "bf0ac7d2",
   "metadata": {},
   "outputs": [
    {
     "name": "stdout",
     "output_type": "stream",
     "text": [
      "(7352, 128, 9)\n",
      "(7352, 6)\n"
     ]
    }
   ],
   "source": [
    "print(train_X.shape)\n",
    "print(train_Y.shape)"
   ]
  },
  {
   "cell_type": "markdown",
   "id": "1296fa4b",
   "metadata": {},
   "source": [
    "### 4. Train"
   ]
  },
  {
   "cell_type": "markdown",
   "id": "d5aa770b",
   "metadata": {},
   "source": [
    "#### 4.1 LSTM\n",
    "##### Prepare the model"
   ]
  },
  {
   "cell_type": "code",
   "execution_count": 13,
   "id": "ed7d9c02",
   "metadata": {},
   "outputs": [],
   "source": [
    "n_timesteps, n_features, n_outputs= train_X.shape[1], train_X.shape[2], train_Y.shape[1]"
   ]
  },
  {
   "cell_type": "code",
   "execution_count": 14,
   "id": "292702cf",
   "metadata": {},
   "outputs": [
    {
     "name": "stderr",
     "output_type": "stream",
     "text": [
      "2022-11-28 12:09:43.465886: I tensorflow/core/platform/cpu_feature_guard.cc:193] This TensorFlow binary is optimized with oneAPI Deep Neural Network Library (oneDNN) to use the following CPU instructions in performance-critical operations:  AVX2 FMA\n",
      "To enable them in other operations, rebuild TensorFlow with the appropriate compiler flags.\n"
     ]
    }
   ],
   "source": [
    "model = Sequential()\n",
    "model.add(LSTM(100, input_shape = (n_timesteps, n_features)))\n",
    "model.add(Dropout(0.5))\n",
    "model.add(Dense(100, activation = 'relu'))\n",
    "model.add(Dense(n_outputs, activation='softmax'))\n",
    "model.compile(loss= 'categorical_crossentropy', optimizer='adam', metrics=['accuracy'])"
   ]
  },
  {
   "cell_type": "markdown",
   "id": "ea2e88a2",
   "metadata": {},
   "source": [
    "##### Fit the model"
   ]
  },
  {
   "cell_type": "code",
   "execution_count": 15,
   "id": "8b1fa05b",
   "metadata": {},
   "outputs": [
    {
     "name": "stdout",
     "output_type": "stream",
     "text": [
      "Epoch 1/15\n",
      "115/115 [==============================] - 7s 46ms/step - loss: 1.1609 - accuracy: 0.5039\n",
      "Epoch 2/15\n",
      "115/115 [==============================] - 5s 46ms/step - loss: 0.6774 - accuracy: 0.6887\n",
      "Epoch 3/15\n",
      "115/115 [==============================] - 5s 47ms/step - loss: 0.6010 - accuracy: 0.7418\n",
      "Epoch 4/15\n",
      "115/115 [==============================] - 5s 47ms/step - loss: 0.4993 - accuracy: 0.8003\n",
      "Epoch 5/15\n",
      "115/115 [==============================] - 6s 49ms/step - loss: 0.2815 - accuracy: 0.9017\n",
      "Epoch 6/15\n",
      "115/115 [==============================] - 6s 50ms/step - loss: 0.2066 - accuracy: 0.9261\n",
      "Epoch 7/15\n",
      "115/115 [==============================] - 6s 53ms/step - loss: 0.2730 - accuracy: 0.9057\n",
      "Epoch 8/15\n",
      "115/115 [==============================] - 6s 51ms/step - loss: 0.1975 - accuracy: 0.9253\n",
      "Epoch 9/15\n",
      "115/115 [==============================] - 6s 55ms/step - loss: 0.1708 - accuracy: 0.9368\n",
      "Epoch 10/15\n",
      "115/115 [==============================] - 6s 53ms/step - loss: 0.1576 - accuracy: 0.9370\n",
      "Epoch 11/15\n",
      "115/115 [==============================] - 6s 56ms/step - loss: 0.1521 - accuracy: 0.9419\n",
      "Epoch 12/15\n",
      "115/115 [==============================] - 7s 58ms/step - loss: 0.1262 - accuracy: 0.9490\n",
      "Epoch 13/15\n",
      "115/115 [==============================] - 7s 57ms/step - loss: 0.1287 - accuracy: 0.9491\n",
      "Epoch 14/15\n",
      "115/115 [==============================] - 6s 55ms/step - loss: 0.1412 - accuracy: 0.9478\n",
      "Epoch 15/15\n",
      "115/115 [==============================] - 6s 55ms/step - loss: 0.1464 - accuracy: 0.9449\n"
     ]
    },
    {
     "data": {
      "text/plain": [
       "<keras.callbacks.History at 0x7fd86b4f1a60>"
      ]
     },
     "execution_count": 15,
     "metadata": {},
     "output_type": "execute_result"
    }
   ],
   "source": [
    "epochs = 15\n",
    "batch_size = 64\n",
    "model.fit(train_X, train_Y, epochs = epochs, batch_size=batch_size)"
   ]
  },
  {
   "cell_type": "markdown",
   "id": "5bfbe3b4",
   "metadata": {},
   "source": [
    "##### Evaluate"
   ]
  },
  {
   "cell_type": "code",
   "execution_count": 16,
   "id": "9ea021c8",
   "metadata": {},
   "outputs": [],
   "source": [
    "results = model.evaluate(test_X, test_Y, batch_size = batch_size, verbose=0)"
   ]
  },
  {
   "cell_type": "code",
   "execution_count": 17,
   "id": "c6d63c27",
   "metadata": {},
   "outputs": [
    {
     "name": "stdout",
     "output_type": "stream",
     "text": [
      "test loss, test acc: [0.29762861132621765, 0.9114353656768799]\n"
     ]
    }
   ],
   "source": [
    "print(\"test loss, test acc:\", results)"
   ]
  },
  {
   "cell_type": "markdown",
   "id": "a6eb7275",
   "metadata": {},
   "source": [
    "#### 4.1 LSTM\n",
    "##### Prepare the model"
   ]
  },
  {
   "cell_type": "code",
   "execution_count": 18,
   "id": "bb64628f",
   "metadata": {},
   "outputs": [],
   "source": [
    "# reshape into subsequences (samples, time steps, rows, cols, channels)\n",
    "n_steps, n_length = 4, 32\n",
    "cnnlstm_train_X = train_X.reshape((train_X.shape[0], n_steps, 1, n_length, n_features))\n",
    "cnnlstm_test_X = test_X.reshape((test_X.shape[0], n_steps, 1, n_length, n_features))\n",
    "cnnlstm_model = Sequential()\n",
    "cnnlstm_model.add(ConvLSTM2D(filters=64, kernel_size=(1,3), activation='relu', input_shape=(n_steps, 1, n_length, n_features)))\n",
    "cnnlstm_model.add(Dropout(0.5))\n",
    "cnnlstm_model.add(Flatten())\n",
    "cnnlstm_model.add(Dense(100, activation='relu'))\n",
    "cnnlstm_model.add(Dense(n_outputs, activation='softmax'))\n",
    "cnnlstm_model.compile(loss= 'categorical_crossentropy', optimizer='adam', metrics=['accuracy'])"
   ]
  },
  {
   "cell_type": "code",
   "execution_count": 19,
   "id": "12310eef",
   "metadata": {},
   "outputs": [
    {
     "name": "stdout",
     "output_type": "stream",
     "text": [
      "Epoch 1/15\n",
      "115/115 [==============================] - 7s 42ms/step - loss: 0.6122 - accuracy: 0.7588\n",
      "Epoch 2/15\n",
      "115/115 [==============================] - 5s 40ms/step - loss: 0.2214 - accuracy: 0.9159\n",
      "Epoch 3/15\n",
      "115/115 [==============================] - 5s 42ms/step - loss: 0.1609 - accuracy: 0.9340\n",
      "Epoch 4/15\n",
      "115/115 [==============================] - 5s 43ms/step - loss: 0.1376 - accuracy: 0.9415\n",
      "Epoch 5/15\n",
      "115/115 [==============================] - 5s 41ms/step - loss: 0.1222 - accuracy: 0.9472\n",
      "Epoch 6/15\n",
      "115/115 [==============================] - 5s 41ms/step - loss: 0.1236 - accuracy: 0.9493\n",
      "Epoch 7/15\n",
      "115/115 [==============================] - 5s 42ms/step - loss: 0.1164 - accuracy: 0.9505\n",
      "Epoch 8/15\n",
      "115/115 [==============================] - 5s 41ms/step - loss: 0.1066 - accuracy: 0.9531\n",
      "Epoch 9/15\n",
      "115/115 [==============================] - 5s 41ms/step - loss: 0.1058 - accuracy: 0.9547\n",
      "Epoch 10/15\n",
      "115/115 [==============================] - 5s 41ms/step - loss: 0.1017 - accuracy: 0.9553\n",
      "Epoch 11/15\n",
      "115/115 [==============================] - 5s 41ms/step - loss: 0.0953 - accuracy: 0.9593\n",
      "Epoch 12/15\n",
      "115/115 [==============================] - 5s 41ms/step - loss: 0.1048 - accuracy: 0.9528\n",
      "Epoch 13/15\n",
      "115/115 [==============================] - 5s 40ms/step - loss: 0.0989 - accuracy: 0.9555\n",
      "Epoch 14/15\n",
      "115/115 [==============================] - 5s 41ms/step - loss: 0.1017 - accuracy: 0.9554\n",
      "Epoch 15/15\n",
      "115/115 [==============================] - 5s 41ms/step - loss: 0.0878 - accuracy: 0.9614\n"
     ]
    },
    {
     "data": {
      "text/plain": [
       "<keras.callbacks.History at 0x7fd86b2d1d30>"
      ]
     },
     "execution_count": 19,
     "metadata": {},
     "output_type": "execute_result"
    }
   ],
   "source": [
    "epochs = 15\n",
    "batch_size = 64\n",
    "cnnlstm_model.fit(cnnlstm_train_X, train_Y, epochs = epochs, batch_size=batch_size)"
   ]
  },
  {
   "cell_type": "code",
   "execution_count": 20,
   "id": "f9c475df",
   "metadata": {},
   "outputs": [
    {
     "ename": "NameError",
     "evalue": "name 'cnnlstm_X' is not defined",
     "output_type": "error",
     "traceback": [
      "\u001b[0;31m---------------------------------------------------------------------------\u001b[0m",
      "\u001b[0;31mNameError\u001b[0m                                 Traceback (most recent call last)",
      "Input \u001b[0;32mIn [20]\u001b[0m, in \u001b[0;36m<cell line: 1>\u001b[0;34m()\u001b[0m\n\u001b[0;32m----> 1\u001b[0m results \u001b[38;5;241m=\u001b[39m cnnlstm_model\u001b[38;5;241m.\u001b[39mevaluate(\u001b[43mcnnlstm_X\u001b[49m, test_Y, batch_size \u001b[38;5;241m=\u001b[39m batch_size, verbose\u001b[38;5;241m=\u001b[39m\u001b[38;5;241m0\u001b[39m)\n",
      "\u001b[0;31mNameError\u001b[0m: name 'cnnlstm_X' is not defined"
     ]
    }
   ],
   "source": [
    "results = cnnlstm_model.evaluate(cnnlstm_X, test_Y, batch_size = batch_size, verbose=0)"
   ]
  },
  {
   "cell_type": "code",
   "execution_count": null,
   "id": "eec08b1f",
   "metadata": {},
   "outputs": [],
   "source": [
    "print(\"test loss, test acc:\", results)"
   ]
  }
 ],
 "metadata": {
  "kernelspec": {
   "display_name": "Python 3 (ipykernel)",
   "language": "python",
   "name": "python3"
  },
  "language_info": {
   "codemirror_mode": {
    "name": "ipython",
    "version": 3
   },
   "file_extension": ".py",
   "mimetype": "text/x-python",
   "name": "python",
   "nbconvert_exporter": "python",
   "pygments_lexer": "ipython3",
   "version": "3.8.12"
  }
 },
 "nbformat": 4,
 "nbformat_minor": 5
}
