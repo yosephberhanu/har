{
 "cells": [
  {
   "cell_type": "markdown",
   "id": "73a4afec",
   "metadata": {},
   "source": [
    "## Human Activity Recognition using RNN"
   ]
  },
  {
   "cell_type": "markdown",
   "id": "c91d01d9",
   "metadata": {},
   "source": [
    "### 0. Install the dependacy packages"
   ]
  },
  {
   "cell_type": "code",
   "execution_count": 1,
   "id": "a3eac1d8",
   "metadata": {},
   "outputs": [
    {
     "name": "stdout",
     "output_type": "stream",
     "text": [
      "Requirement already satisfied: numpy in /Users/yoseph/opt/anaconda3/envs/udacity/lib/python3.8/site-packages (1.23.5)\n",
      "Requirement already satisfied: pandas in /Users/yoseph/opt/anaconda3/envs/udacity/lib/python3.8/site-packages (1.5.2)\n",
      "Requirement already satisfied: tensorflow in /Users/yoseph/opt/anaconda3/envs/udacity/lib/python3.8/site-packages (2.11.0)\n",
      "Requirement already satisfied: pytz>=2020.1 in /Users/yoseph/opt/anaconda3/envs/udacity/lib/python3.8/site-packages (from pandas) (2022.6)\n",
      "Requirement already satisfied: python-dateutil>=2.8.1 in /Users/yoseph/opt/anaconda3/envs/udacity/lib/python3.8/site-packages (from pandas) (2.8.2)\n",
      "Requirement already satisfied: six>=1.12.0 in /Users/yoseph/opt/anaconda3/envs/udacity/lib/python3.8/site-packages (from tensorflow) (1.16.0)\n",
      "Requirement already satisfied: libclang>=13.0.0 in /Users/yoseph/opt/anaconda3/envs/udacity/lib/python3.8/site-packages (from tensorflow) (14.0.6)\n",
      "Requirement already satisfied: wrapt>=1.11.0 in /Users/yoseph/opt/anaconda3/envs/udacity/lib/python3.8/site-packages (from tensorflow) (1.14.1)\n",
      "Requirement already satisfied: gast<=0.4.0,>=0.2.1 in /Users/yoseph/opt/anaconda3/envs/udacity/lib/python3.8/site-packages (from tensorflow) (0.4.0)\n",
      "Requirement already satisfied: tensorflow-estimator<2.12,>=2.11.0 in /Users/yoseph/opt/anaconda3/envs/udacity/lib/python3.8/site-packages (from tensorflow) (2.11.0)\n",
      "Requirement already satisfied: opt-einsum>=2.3.2 in /Users/yoseph/opt/anaconda3/envs/udacity/lib/python3.8/site-packages (from tensorflow) (3.3.0)\n",
      "Requirement already satisfied: packaging in /Users/yoseph/opt/anaconda3/envs/udacity/lib/python3.8/site-packages (from tensorflow) (21.3)\n",
      "Requirement already satisfied: keras<2.12,>=2.11.0 in /Users/yoseph/opt/anaconda3/envs/udacity/lib/python3.8/site-packages (from tensorflow) (2.11.0)\n",
      "Requirement already satisfied: tensorboard<2.12,>=2.11 in /Users/yoseph/opt/anaconda3/envs/udacity/lib/python3.8/site-packages (from tensorflow) (2.11.0)\n",
      "Requirement already satisfied: h5py>=2.9.0 in /Users/yoseph/opt/anaconda3/envs/udacity/lib/python3.8/site-packages (from tensorflow) (3.7.0)\n",
      "Requirement already satisfied: tensorflow-io-gcs-filesystem>=0.23.1 in /Users/yoseph/opt/anaconda3/envs/udacity/lib/python3.8/site-packages (from tensorflow) (0.28.0)\n",
      "Requirement already satisfied: absl-py>=1.0.0 in /Users/yoseph/opt/anaconda3/envs/udacity/lib/python3.8/site-packages (from tensorflow) (1.3.0)\n",
      "Requirement already satisfied: typing-extensions>=3.6.6 in /Users/yoseph/opt/anaconda3/envs/udacity/lib/python3.8/site-packages (from tensorflow) (4.1.1)\n",
      "Requirement already satisfied: termcolor>=1.1.0 in /Users/yoseph/opt/anaconda3/envs/udacity/lib/python3.8/site-packages (from tensorflow) (2.1.1)\n",
      "Requirement already satisfied: protobuf<3.20,>=3.9.2 in /Users/yoseph/opt/anaconda3/envs/udacity/lib/python3.8/site-packages (from tensorflow) (3.19.6)\n",
      "Requirement already satisfied: setuptools in /Users/yoseph/opt/anaconda3/envs/udacity/lib/python3.8/site-packages (from tensorflow) (58.0.4)\n",
      "Requirement already satisfied: grpcio<2.0,>=1.24.3 in /Users/yoseph/opt/anaconda3/envs/udacity/lib/python3.8/site-packages (from tensorflow) (1.50.0)\n",
      "Requirement already satisfied: flatbuffers>=2.0 in /Users/yoseph/opt/anaconda3/envs/udacity/lib/python3.8/site-packages (from tensorflow) (22.11.23)\n",
      "Requirement already satisfied: google-pasta>=0.1.1 in /Users/yoseph/opt/anaconda3/envs/udacity/lib/python3.8/site-packages (from tensorflow) (0.2.0)\n",
      "Requirement already satisfied: astunparse>=1.6.0 in /Users/yoseph/opt/anaconda3/envs/udacity/lib/python3.8/site-packages (from tensorflow) (1.6.3)\n",
      "Requirement already satisfied: wheel<1.0,>=0.23.0 in /Users/yoseph/opt/anaconda3/envs/udacity/lib/python3.8/site-packages (from astunparse>=1.6.0->tensorflow) (0.37.1)\n",
      "Requirement already satisfied: google-auth-oauthlib<0.5,>=0.4.1 in /Users/yoseph/opt/anaconda3/envs/udacity/lib/python3.8/site-packages (from tensorboard<2.12,>=2.11->tensorflow) (0.4.6)\n",
      "Requirement already satisfied: tensorboard-plugin-wit>=1.6.0 in /Users/yoseph/opt/anaconda3/envs/udacity/lib/python3.8/site-packages (from tensorboard<2.12,>=2.11->tensorflow) (1.8.1)\n",
      "Requirement already satisfied: markdown>=2.6.8 in /Users/yoseph/opt/anaconda3/envs/udacity/lib/python3.8/site-packages (from tensorboard<2.12,>=2.11->tensorflow) (3.4.1)\n",
      "Requirement already satisfied: requests<3,>=2.21.0 in /Users/yoseph/opt/anaconda3/envs/udacity/lib/python3.8/site-packages (from tensorboard<2.12,>=2.11->tensorflow) (2.28.1)\n",
      "Requirement already satisfied: tensorboard-data-server<0.7.0,>=0.6.0 in /Users/yoseph/opt/anaconda3/envs/udacity/lib/python3.8/site-packages (from tensorboard<2.12,>=2.11->tensorflow) (0.6.1)\n",
      "Requirement already satisfied: google-auth<3,>=1.6.3 in /Users/yoseph/opt/anaconda3/envs/udacity/lib/python3.8/site-packages (from tensorboard<2.12,>=2.11->tensorflow) (2.14.1)\n",
      "Requirement already satisfied: werkzeug>=1.0.1 in /Users/yoseph/opt/anaconda3/envs/udacity/lib/python3.8/site-packages (from tensorboard<2.12,>=2.11->tensorflow) (2.2.2)\n",
      "Requirement already satisfied: pyasn1-modules>=0.2.1 in /Users/yoseph/opt/anaconda3/envs/udacity/lib/python3.8/site-packages (from google-auth<3,>=1.6.3->tensorboard<2.12,>=2.11->tensorflow) (0.2.8)\n",
      "Requirement already satisfied: cachetools<6.0,>=2.0.0 in /Users/yoseph/opt/anaconda3/envs/udacity/lib/python3.8/site-packages (from google-auth<3,>=1.6.3->tensorboard<2.12,>=2.11->tensorflow) (5.2.0)\n",
      "Requirement already satisfied: rsa<5,>=3.1.4 in /Users/yoseph/opt/anaconda3/envs/udacity/lib/python3.8/site-packages (from google-auth<3,>=1.6.3->tensorboard<2.12,>=2.11->tensorflow) (4.9)\n",
      "Requirement already satisfied: requests-oauthlib>=0.7.0 in /Users/yoseph/opt/anaconda3/envs/udacity/lib/python3.8/site-packages (from google-auth-oauthlib<0.5,>=0.4.1->tensorboard<2.12,>=2.11->tensorflow) (1.3.1)\n",
      "Requirement already satisfied: importlib-metadata>=4.4 in /Users/yoseph/opt/anaconda3/envs/udacity/lib/python3.8/site-packages (from markdown>=2.6.8->tensorboard<2.12,>=2.11->tensorflow) (5.1.0)\n",
      "Requirement already satisfied: zipp>=0.5 in /Users/yoseph/opt/anaconda3/envs/udacity/lib/python3.8/site-packages (from importlib-metadata>=4.4->markdown>=2.6.8->tensorboard<2.12,>=2.11->tensorflow) (3.8.0)\n",
      "Requirement already satisfied: pyasn1<0.5.0,>=0.4.6 in /Users/yoseph/opt/anaconda3/envs/udacity/lib/python3.8/site-packages (from pyasn1-modules>=0.2.1->google-auth<3,>=1.6.3->tensorboard<2.12,>=2.11->tensorflow) (0.4.8)\n",
      "Requirement already satisfied: charset-normalizer<3,>=2 in /Users/yoseph/opt/anaconda3/envs/udacity/lib/python3.8/site-packages (from requests<3,>=2.21.0->tensorboard<2.12,>=2.11->tensorflow) (2.1.1)\n",
      "Requirement already satisfied: certifi>=2017.4.17 in /Users/yoseph/opt/anaconda3/envs/udacity/lib/python3.8/site-packages (from requests<3,>=2.21.0->tensorboard<2.12,>=2.11->tensorflow) (2022.5.18.1)\n",
      "Requirement already satisfied: urllib3<1.27,>=1.21.1 in /Users/yoseph/opt/anaconda3/envs/udacity/lib/python3.8/site-packages (from requests<3,>=2.21.0->tensorboard<2.12,>=2.11->tensorflow) (1.26.13)\n",
      "Requirement already satisfied: idna<4,>=2.5 in /Users/yoseph/opt/anaconda3/envs/udacity/lib/python3.8/site-packages (from requests<3,>=2.21.0->tensorboard<2.12,>=2.11->tensorflow) (3.4)\n",
      "Requirement already satisfied: oauthlib>=3.0.0 in /Users/yoseph/opt/anaconda3/envs/udacity/lib/python3.8/site-packages (from requests-oauthlib>=0.7.0->google-auth-oauthlib<0.5,>=0.4.1->tensorboard<2.12,>=2.11->tensorflow) (3.2.2)\n",
      "Requirement already satisfied: MarkupSafe>=2.1.1 in /Users/yoseph/opt/anaconda3/envs/udacity/lib/python3.8/site-packages (from werkzeug>=1.0.1->tensorboard<2.12,>=2.11->tensorflow) (2.1.1)\n",
      "Requirement already satisfied: pyparsing!=3.0.5,>=2.0.2 in /Users/yoseph/opt/anaconda3/envs/udacity/lib/python3.8/site-packages (from packaging->tensorflow) (3.0.4)\n"
     ]
    }
   ],
   "source": [
    "!pip install numpy pandas tensorflow"
   ]
  },
  {
   "cell_type": "markdown",
   "id": "71f3fb55",
   "metadata": {},
   "source": [
    "### 1. Load the training and test data"
   ]
  },
  {
   "cell_type": "markdown",
   "id": "1162803b",
   "metadata": {},
   "source": [
    "#### 1.1 make the necessary imports"
   ]
  },
  {
   "cell_type": "code",
   "execution_count": 2,
   "id": "69475bed",
   "metadata": {},
   "outputs": [
    {
     "name": "stderr",
     "output_type": "stream",
     "text": [
      "2022-11-28 08:29:25.872906: I tensorflow/core/platform/cpu_feature_guard.cc:193] This TensorFlow binary is optimized with oneAPI Deep Neural Network Library (oneDNN) to use the following CPU instructions in performance-critical operations:  AVX2 FMA\n",
      "To enable them in other operations, rebuild TensorFlow with the appropriate compiler flags.\n"
     ]
    }
   ],
   "source": [
    "import numpy as np\n",
    "import pandas as pd\n",
    "from tensorflow.keras import Sequential\n",
    "from tensorflow.keras.layers import Dense,Dropout, LSTM\n",
    "from tensorflow.keras.utils import to_categorical\n"
   ]
  },
  {
   "cell_type": "markdown",
   "id": "f155b1ba",
   "metadata": {},
   "source": [
    "#### 1.2 Uitility functions for loading the data"
   ]
  },
  {
   "cell_type": "code",
   "execution_count": 3,
   "id": "72432efc",
   "metadata": {},
   "outputs": [],
   "source": [
    "def load_file(filepath):\n",
    "    dataframe = pd.read_csv(filepath, header=None, delim_whitespace=True)\n",
    "    return dataframe.values"
   ]
  },
  {
   "cell_type": "code",
   "execution_count": 4,
   "id": "0828e214",
   "metadata": {},
   "outputs": [],
   "source": [
    "def load_group(filenames, prefix=''):\n",
    "    loaded = list()\n",
    "    for name in filenames:\n",
    "        data = load_file(prefix + name)\n",
    "        loaded.append(data)\n",
    "        # stack group so that features are the 3rd dimension\n",
    "    loaded = np.dstack(loaded)\n",
    "    return loaded"
   ]
  },
  {
   "cell_type": "code",
   "execution_count": 5,
   "id": "be4558fb",
   "metadata": {},
   "outputs": [],
   "source": [
    "def load_dataset_group(group, prefix=''):\n",
    "    filepath = prefix + group + '/Inertial Signals/'\n",
    "    # load all 9 files as a single array\n",
    "    filenames = list()\n",
    "    # total acceleration\n",
    "    filenames += ['total_acc_x_'+group+'.txt', 'total_acc_y_'+group+'.txt', 'total_acc_z_'+group+'.txt']\n",
    "    # body acceleration\n",
    "    filenames += ['body_acc_x_'+group+'.txt', 'body_acc_y_'+group+'.txt', 'body_acc_z_'+group+'.txt']\n",
    "    # body gyroscope\n",
    "    filenames += ['body_gyro_x_'+group+'.txt', 'body_gyro_y_'+group+'.txt', 'body_gyro_z_'+group+'.txt']\n",
    "    # load input data\n",
    "    X = load_group(filenames, filepath)\n",
    "    # load class output\n",
    "    y = load_file(prefix + group + '/y_'+group+'.txt')\n",
    "    return X, y"
   ]
  },
  {
   "cell_type": "code",
   "execution_count": 6,
   "id": "6178bee4",
   "metadata": {},
   "outputs": [],
   "source": [
    "def load_dataset(prefix=''):\n",
    "    # load all train\n",
    "    trainX, trainy = load_dataset_group('train', prefix + 'dataset/')\n",
    "    # load all test\n",
    "    testX, testy = load_dataset_group('test', prefix + 'dataset/')\n",
    "    return trainX, trainy, testX, testy\n"
   ]
  },
  {
   "cell_type": "code",
   "execution_count": 7,
   "id": "958fa405",
   "metadata": {},
   "outputs": [],
   "source": [
    "train_X, train_Y, test_X, test_Y = load_dataset()"
   ]
  },
  {
   "cell_type": "markdown",
   "id": "5341e7ea",
   "metadata": {},
   "source": [
    "### 2. Try to understand the data"
   ]
  },
  {
   "cell_type": "code",
   "execution_count": 8,
   "id": "238d469f",
   "metadata": {},
   "outputs": [
    {
     "name": "stdout",
     "output_type": "stream",
     "text": [
      "(7352, 128, 9)\n",
      "(7352, 1)\n"
     ]
    }
   ],
   "source": [
    "print(train_X.shape)\n",
    "print(train_Y.shape)"
   ]
  },
  {
   "cell_type": "code",
   "execution_count": 9,
   "id": "52405ab3",
   "metadata": {},
   "outputs": [
    {
     "name": "stdout",
     "output_type": "stream",
     "text": [
      "(2947, 128, 9)\n",
      "(2947, 1)\n"
     ]
    }
   ],
   "source": [
    "print(test_X.shape)\n",
    "print(test_Y.shape)"
   ]
  },
  {
   "cell_type": "code",
   "execution_count": 12,
   "id": "de760e5c",
   "metadata": {},
   "outputs": [
    {
     "data": {
      "text/plain": [
       "array([ 1.02238   , -0.1268078 ,  0.09935086,  0.00455008, -0.00748789,\n",
       "       -0.02509841,  0.02417851,  0.00971036,  0.01614958])"
      ]
     },
     "execution_count": 12,
     "metadata": {},
     "output_type": "execute_result"
    }
   ],
   "source": [
    "# Features for a single subject in a single timestampe\n",
    "train_X[1,1,:]"
   ]
  },
  {
   "cell_type": "code",
   "execution_count": 13,
   "id": "b2a39363",
   "metadata": {},
   "outputs": [
    {
     "data": {
      "text/plain": [
       "array([1, 2, 3, 4, 5, 6])"
      ]
     },
     "execution_count": 13,
     "metadata": {},
     "output_type": "execute_result"
    }
   ],
   "source": [
    "# Possible output values\n",
    "np.unique(train_Y)"
   ]
  },
  {
   "cell_type": "markdown",
   "id": "74f52ebc",
   "metadata": {},
   "source": [
    "### 3. Preprocessing"
   ]
  },
  {
   "cell_type": "markdown",
   "id": "8273f9c3",
   "metadata": {},
   "source": [
    "#### 2.1 Zero offset the output class values and one-hot encode"
   ]
  },
  {
   "cell_type": "markdown",
   "id": "cc6a5290",
   "metadata": {},
   "source": [
    "The output data set is in the values range 1-6. We'll convert this to the range 0-5 and one hot encode it"
   ]
  },
  {
   "cell_type": "code",
   "execution_count": 14,
   "id": "f5a3a2f1",
   "metadata": {},
   "outputs": [],
   "source": [
    "# zero-offset class values\n",
    "train_Y,test_Y = train_Y -1, test_Y - 1\n",
    "# one hot encode y\n",
    "train_Y = to_categorical(train_Y)\n",
    "test_Y = to_categorical(test_Y)"
   ]
  },
  {
   "cell_type": "code",
   "execution_count": 20,
   "id": "66f7c280",
   "metadata": {},
   "outputs": [
    {
     "name": "stdout",
     "output_type": "stream",
     "text": [
      "(7352, 128, 9)\n",
      "(7352, 6)\n"
     ]
    }
   ],
   "source": [
    "print(train_X.shape)\n",
    "print(train_Y.shape)"
   ]
  },
  {
   "cell_type": "markdown",
   "id": "6c653ff4",
   "metadata": {},
   "source": [
    "### 4. Train"
   ]
  },
  {
   "cell_type": "markdown",
   "id": "a5f2d904",
   "metadata": {},
   "source": [
    "#### 4.1 Prepare the model"
   ]
  },
  {
   "cell_type": "code",
   "execution_count": 22,
   "id": "f885bade",
   "metadata": {},
   "outputs": [],
   "source": [
    "n_timesteps, n_features, n_outputs= train_X.shape[1], train_X.shape[2], train_Y.shape[1]"
   ]
  },
  {
   "cell_type": "code",
   "execution_count": 29,
   "id": "c070c072",
   "metadata": {},
   "outputs": [],
   "source": [
    "model = Sequential()\n",
    "model.add(LSTM(100, input_shape = (n_timesteps, n_features)))\n",
    "model.add(Dropout(0.5))\n",
    "model.add(Dense(100, activation = 'relu'))\n",
    "model.add(Dense(100, activation = 'relu'))\n",
    "model.add(Dense(n_outputs, activation='softmax'))\n",
    "model.compile(loss= 'categorical_crossentropy', optimizer='adam', metrics=['accuracy'])"
   ]
  },
  {
   "cell_type": "markdown",
   "id": "92afd86b",
   "metadata": {},
   "source": [
    "#### 4.2 Fit the model"
   ]
  },
  {
   "cell_type": "code",
   "execution_count": 30,
   "id": "1d5e14e9",
   "metadata": {},
   "outputs": [
    {
     "name": "stdout",
     "output_type": "stream",
     "text": [
      "Epoch 1/15\n",
      "115/115 [==============================] - 7s 46ms/step - loss: 1.1267 - accuracy: 0.5249\n",
      "Epoch 2/15\n",
      "115/115 [==============================] - 5s 47ms/step - loss: 0.6757 - accuracy: 0.7089\n",
      "Epoch 3/15\n",
      "115/115 [==============================] - 5s 46ms/step - loss: 0.5106 - accuracy: 0.7816\n",
      "Epoch 4/15\n",
      "115/115 [==============================] - 5s 46ms/step - loss: 0.3873 - accuracy: 0.8502\n",
      "Epoch 5/15\n",
      "115/115 [==============================] - 5s 46ms/step - loss: 0.2912 - accuracy: 0.9029\n",
      "Epoch 6/15\n",
      "115/115 [==============================] - 5s 46ms/step - loss: 0.1827 - accuracy: 0.9314\n",
      "Epoch 7/15\n",
      "115/115 [==============================] - 5s 47ms/step - loss: 0.1669 - accuracy: 0.9363\n",
      "Epoch 8/15\n",
      "115/115 [==============================] - 6s 48ms/step - loss: 0.1519 - accuracy: 0.9400\n",
      "Epoch 9/15\n",
      "115/115 [==============================] - 6s 48ms/step - loss: 0.2270 - accuracy: 0.9185\n",
      "Epoch 10/15\n",
      "115/115 [==============================] - 6s 49ms/step - loss: 0.1913 - accuracy: 0.9309\n",
      "Epoch 11/15\n",
      "115/115 [==============================] - 6s 49ms/step - loss: 0.1782 - accuracy: 0.9353\n",
      "Epoch 12/15\n",
      "115/115 [==============================] - 6s 49ms/step - loss: 0.1602 - accuracy: 0.9357\n",
      "Epoch 13/15\n",
      "115/115 [==============================] - 6s 50ms/step - loss: 0.1627 - accuracy: 0.9353\n",
      "Epoch 14/15\n",
      "115/115 [==============================] - 6s 54ms/step - loss: 0.1342 - accuracy: 0.9444\n",
      "Epoch 15/15\n",
      "115/115 [==============================] - 6s 51ms/step - loss: 0.1308 - accuracy: 0.9490\n"
     ]
    },
    {
     "data": {
      "text/plain": [
       "<keras.callbacks.History at 0x7ff3b9652ee0>"
      ]
     },
     "execution_count": 30,
     "metadata": {},
     "output_type": "execute_result"
    }
   ],
   "source": [
    "epochs = 15\n",
    "batch_size = 64\n",
    "model.fit(train_X, train_Y, epochs = epochs, batch_size=batch_size)"
   ]
  },
  {
   "cell_type": "markdown",
   "id": "5e177cd8",
   "metadata": {},
   "source": [
    "### 5. Evaluate"
   ]
  },
  {
   "cell_type": "code",
   "execution_count": 31,
   "id": "0e8bf98c",
   "metadata": {},
   "outputs": [],
   "source": [
    "results = model.evaluate(test_X, test_Y, batch_size = batch_size, verbose=0)"
   ]
  },
  {
   "cell_type": "code",
   "execution_count": 28,
   "id": "d1819e28",
   "metadata": {},
   "outputs": [
    {
     "name": "stdout",
     "output_type": "stream",
     "text": [
      "test loss, test acc: [0.3805740177631378, 0.9117746949195862]\n"
     ]
    }
   ],
   "source": [
    "print(\"test loss, test acc:\", results)"
   ]
  },
  {
   "cell_type": "code",
   "execution_count": 32,
   "id": "88f38a30",
   "metadata": {},
   "outputs": [
    {
     "name": "stdout",
     "output_type": "stream",
     "text": [
      "test loss, test acc: [0.23025718331336975, 0.9073634147644043]\n"
     ]
    }
   ],
   "source": [
    "print(\"test loss, test acc:\", results)"
   ]
  },
  {
   "cell_type": "code",
   "execution_count": null,
   "id": "53ed445f",
   "metadata": {},
   "outputs": [],
   "source": []
  }
 ],
 "metadata": {
  "kernelspec": {
   "display_name": "Python 3 (ipykernel)",
   "language": "python",
   "name": "python3"
  },
  "language_info": {
   "codemirror_mode": {
    "name": "ipython",
    "version": 3
   },
   "file_extension": ".py",
   "mimetype": "text/x-python",
   "name": "python",
   "nbconvert_exporter": "python",
   "pygments_lexer": "ipython3",
   "version": "3.8.12"
  }
 },
 "nbformat": 4,
 "nbformat_minor": 5
}
